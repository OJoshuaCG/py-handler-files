{
 "cells": [
  {
   "attachments": {},
   "cell_type": "markdown",
   "metadata": {},
   "source": [
    "Instalar openpyxl\n",
    "```\n",
    "pip install openpyxl\n",
    "```"
   ]
  },
  {
   "attachments": {},
   "cell_type": "markdown",
   "metadata": {},
   "source": [
    "Importar la libreria"
   ]
  },
  {
   "cell_type": "code",
   "execution_count": 3,
   "metadata": {},
   "outputs": [],
   "source": [
    "from openpyxl import Workbook, load_workbook\n",
    "from openpyxl.styles import Font, Color, Alignment, Border, Side"
   ]
  },
  {
   "attachments": {},
   "cell_type": "markdown",
   "metadata": {},
   "source": [
    "Creando un archivo excel y escribiendo sobre el"
   ]
  },
  {
   "cell_type": "code",
   "execution_count": null,
   "metadata": {},
   "outputs": [],
   "source": [
    "workbook = Workbook()\n",
    "\n",
    "sheet = workbook.active\n",
    "sheet[\"A1\"] = \"hola\"\n",
    "sheet[\"B1\"] = \"mundo\"\n",
    "\n",
    "workbook.save(filename=\"archivo.xlsx\")\n",
    "workbook.close()"
   ]
  },
  {
   "attachments": {},
   "cell_type": "markdown",
   "metadata": {},
   "source": [
    "Leer un archivo excel en especifico"
   ]
  },
  {
   "cell_type": "code",
   "execution_count": null,
   "metadata": {},
   "outputs": [],
   "source": [
    "workbook = load_workbook(\"videogamesales.xlsx\")\n",
    "# workbook = load_workbook(\"videogamesales.xlsx\", read_only=True, data_only=False)"
   ]
  },
  {
   "attachments": {},
   "cell_type": "markdown",
   "metadata": {},
   "source": [
    "Operaciones con las hojas"
   ]
  },
  {
   "cell_type": "code",
   "execution_count": null,
   "metadata": {},
   "outputs": [],
   "source": [
    "print(workbook.sheetnames)\n",
    "\n",
    "sheet = workbook.active\n",
    "print(sheet.title)\n",
    "print(f\"Filas:    {sheet.max_row}\")\n",
    "print(f\"Columnas: {sheet.max_column}\")\n",
    "\n",
    "sheet_genre = workbook[\"Total Sales by Genre\"]\n",
    "print(f\"Filas:    {sheet_genre.max_row}\")\n",
    "print(f\"Columnas: {sheet_genre.max_column}\")\n",
    "\n",
    "# Creando hojas\n",
    "sheet.create_sheet(\"Python\")\n",
    "go_sheet = sheet.create_sheet(\"Go\")\n",
    "# Creando una hoja y en un indice especifico\n",
    "sheet.create_sheet(\"Javascript\", 0)\n",
    "\n",
    "# Eliminando\n",
    "workbook.remove(go_sheet)\n",
    "\n",
    "# Copiando\n",
    "python_sheet = workbook[\"Python\"]\n",
    "workbook.copy_worksheet(python_sheet)\n",
    "\n",
    "# Ocultando\n",
    "python_sheet.sheet_state = \"hidden\" # \"visible\"\n",
    "\n",
    "# Visualizar rango de celdas ocupadas\n",
    "print(f\"Celdas ocupadas: {sheet.calculate_dimension()}\")\n",
    "print(f\"Celdas ocupadas: {sheet.dimensions}\")\n"
   ]
  },
  {
   "attachments": {},
   "cell_type": "markdown",
   "metadata": {},
   "source": [
    "Formas de seleccionar celdas e iterar sobre ellas"
   ]
  },
  {
   "cell_type": "code",
   "execution_count": null,
   "metadata": {},
   "outputs": [],
   "source": [
    "# Tomando una celda\n",
    "cell_A1 = sheet['A1'].value\n",
    "print(f\"Celda A1: {cell_A1}\")\n",
    "\n",
    "cell_A1 = sheet.cell(row=1, column=1).value\n",
    "print(f\"Celda A1: {cell_A1}\")\n",
    "\n",
    "# Obtener un rango de celdas:\n",
    "data = sheet[\"A\"]      # Columna A\n",
    "data = sheet[\"A:B\"]     # Columna A -> B\n",
    "data = sheet[\"2\"]       # Fila 2\n",
    "data = sheet[\"2:3\"]     # Fila 2 -> 3\n",
    "data = sheet[\"A1:C2\"]   # Rango A1 -> C2\n",
    "data = sheet[\"A1\":\"C2\"]   # Rango A1 -> C2\n",
    "\n",
    "for row in data:\n",
    "    for cell in row:\n",
    "        print(cell.value)\n",
    "\n",
    "# # Iterar sobre toda la hoja:\n",
    "# for row in sheet.rows:\n",
    "#     print(row)\n",
    "\n",
    "# for column in sheet.colums:\n",
    "#     print(column)\n",
    "\n",
    "# Iterar sobre filas:\n",
    "for row in sheet.iter_rows(min_row=1, max_row=2, min_col=1, max_col=3):\n",
    "    print(row)\n",
    "\n",
    "# Iterar sobre columnas:\n",
    "for column in sheet.iter_cols(min_row=1, max_row=2, min_col=1, max_col=3):\n",
    "    print(column)\n",
    "\n",
    "for row in sheet.iter_rows(min_row=1, max_row=3, values_only=True):\n",
    "    print(row)"
   ]
  },
  {
   "attachments": {},
   "cell_type": "markdown",
   "metadata": {},
   "source": [
    "Manipulando un archivo nuevo"
   ]
  },
  {
   "cell_type": "code",
   "execution_count": null,
   "metadata": {},
   "outputs": [],
   "source": [
    "workbook = Workbook()\n",
    "\n",
    "sheet = workbook.active\n",
    "\n",
    "header = (\"id\", \"Nombre\", \"Edad\", \"Descripcion\")\n",
    "sheet.append(header)\n",
    "\n",
    "row = (1, \"Orlando\", 23, \"Alumno\")\n",
    "sheet.append(row)\n",
    "\n",
    "row = (2, \"Joshua\", 15, \"Perro\")\n",
    "sheet.append(row)\n",
    "\n",
    "row = (3, \"Carrasco\", 13, \"Niño\")\n",
    "sheet.append(row)\n",
    "\n",
    "# Elimina el indice de fila, y la cantidad de filas contando de abajo hacia arriba\n",
    "# Las filas debajo se recorren hacia arriba\n",
    "sheet.delete_rows(sheet.max_row, amount=1)\n",
    "\n",
    "# Elimina el indice de columna, y la cantidad de columnas contando de izquierda a derecha\n",
    "# Las columnas de la derecha, se recorren a la izquierda\n",
    "sheet.delete_cols(3, 1)\n",
    "\n",
    "d1 = sheet['A5']\n",
    "d1.value = 4\n",
    "\n",
    "# Insertar filas vacias: indice y cantidad\n",
    "# Recorre las filas a partir del indice, no sobreescribe los datos\n",
    "sheet.insert_rows(idx=4, amount=1)\n",
    "\n",
    "# Insertar columnas vacias, indice y cantidad\n",
    "# Recorre las columnas a partir del indice, no sobreescribe los datos\n",
    "sheet.insert_cols(idx=2, amount=2)\n",
    "\n",
    "\n",
    "\n",
    "# workbook.save(filename=\"archivo_2.xlsx\")\n",
    "# workbook.close()"
   ]
  },
  {
   "cell_type": "code",
   "execution_count": 20,
   "metadata": {},
   "outputs": [
    {
     "ename": "TypeError",
     "evalue": "Font.__init__() got an unexpected keyword argument 'fgcolor'",
     "output_type": "error",
     "traceback": [
      "\u001b[0;31m---------------------------------------------------------------------------\u001b[0m",
      "\u001b[0;31mTypeError\u001b[0m                                 Traceback (most recent call last)",
      "\u001b[1;32m/mnt/Data/codes/python/01-python-gh/excel/libreta.ipynb Cell 14\u001b[0m in \u001b[0;36m1\n\u001b[0;32m----> <a href='vscode-notebook-cell:/mnt/Data/codes/python/01-python-gh/excel/libreta.ipynb#X21sZmlsZQ%3D%3D?line=0'>1</a>\u001b[0m font \u001b[39m=\u001b[39m Font(bold\u001b[39m=\u001b[39;49m\u001b[39mTrue\u001b[39;49;00m,\n\u001b[1;32m      <a href='vscode-notebook-cell:/mnt/Data/codes/python/01-python-gh/excel/libreta.ipynb#X21sZmlsZQ%3D%3D?line=1'>2</a>\u001b[0m             italic\u001b[39m=\u001b[39;49m\u001b[39mFalse\u001b[39;49;00m,\n\u001b[1;32m      <a href='vscode-notebook-cell:/mnt/Data/codes/python/01-python-gh/excel/libreta.ipynb#X21sZmlsZQ%3D%3D?line=2'>3</a>\u001b[0m             underline\u001b[39m=\u001b[39;49m\u001b[39m'\u001b[39;49m\u001b[39msingle\u001b[39;49m\u001b[39m'\u001b[39;49m, \u001b[39m# {'single', 'double', 'doubleAccounting', 'singleAccounting'}\u001b[39;49;00m\n\u001b[1;32m      <a href='vscode-notebook-cell:/mnt/Data/codes/python/01-python-gh/excel/libreta.ipynb#X21sZmlsZQ%3D%3D?line=3'>4</a>\u001b[0m             color\u001b[39m=\u001b[39;49m\u001b[39m\"\u001b[39;49m\u001b[39m00FF0000\u001b[39;49m\u001b[39m\"\u001b[39;49m,\n\u001b[1;32m      <a href='vscode-notebook-cell:/mnt/Data/codes/python/01-python-gh/excel/libreta.ipynb#X21sZmlsZQ%3D%3D?line=4'>5</a>\u001b[0m             size\u001b[39m=\u001b[39;49m\u001b[39m20\u001b[39;49m,\n\u001b[1;32m      <a href='vscode-notebook-cell:/mnt/Data/codes/python/01-python-gh/excel/libreta.ipynb#X21sZmlsZQ%3D%3D?line=5'>6</a>\u001b[0m             fgcolor\u001b[39m=\u001b[39;49m\u001b[39m\"\u001b[39;49m\u001b[39mFFFF00FF\u001b[39;49m\u001b[39m\"\u001b[39;49m\n\u001b[1;32m      <a href='vscode-notebook-cell:/mnt/Data/codes/python/01-python-gh/excel/libreta.ipynb#X21sZmlsZQ%3D%3D?line=6'>7</a>\u001b[0m             )\n",
      "\u001b[0;31mTypeError\u001b[0m: Font.__init__() got an unexpected keyword argument 'fgcolor'"
     ]
    }
   ],
   "source": [
    "font = Font(bold=True,\n",
    "            italic=False,\n",
    "            underline='single', # {'single', 'double', 'doubleAccounting', 'singleAccounting'}\n",
    "            color=\"00FF0000\",\n",
    "            size=20\n",
    "            )"
   ]
  },
  {
   "cell_type": "code",
   "execution_count": null,
   "metadata": {},
   "outputs": [],
   "source": [
    "workbook.close()"
   ]
  },
  {
   "attachments": {},
   "cell_type": "markdown",
   "metadata": {},
   "source": [
    "Fuentes:\n",
    "- [https://www.datacamp.com/tutorial/python-excel-tutorial](https://www.datacamp.com/tutorial/python-excel-tutorial)\n",
    "- [https://www.geeksforgeeks.org/working-with-excel-spreadsheets-in-python/](https://www.geeksforgeeks.org/working-with-excel-spreadsheets-in-python/)\n",
    "- [https://realpython.com/openpyxl-excel-spreadsheets-python/](https://realpython.com/openpyxl-excel-spreadsheets-python/)\n",
    "- [https://pybonacci.org/2021/03/10/curso-sobre-como-trabajar-con-hojas-de-calculo-excel-calc-usando-openpyxl-en-python-iii/](https://pybonacci.org/2021/03/10/curso-sobre-como-trabajar-con-hojas-de-calculo-excel-calc-usando-openpyxl-en-python-iii/)\n"
   ]
  }
 ],
 "metadata": {
  "kernelspec": {
   "display_name": "Python 3",
   "language": "python",
   "name": "python3"
  },
  "language_info": {
   "codemirror_mode": {
    "name": "ipython",
    "version": 3
   },
   "file_extension": ".py",
   "mimetype": "text/x-python",
   "name": "python",
   "nbconvert_exporter": "python",
   "pygments_lexer": "ipython3",
   "version": "3.10.10"
  },
  "orig_nbformat": 4
 },
 "nbformat": 4,
 "nbformat_minor": 2
}
