{
 "cells": [
  {
   "attachments": {},
   "cell_type": "markdown",
   "metadata": {},
   "source": [
    "Instalar openpyxl\n",
    "```\n",
    "pip install openpyxl\n",
    "```"
   ]
  },
  {
   "attachments": {},
   "cell_type": "markdown",
   "metadata": {},
   "source": [
    "Importar la libreria"
   ]
  },
  {
   "cell_type": "code",
   "execution_count": null,
   "metadata": {},
   "outputs": [],
   "source": [
    "from openpyxl import Workbook, load_workbook"
   ]
  },
  {
   "attachments": {},
   "cell_type": "markdown",
   "metadata": {},
   "source": [
    "Creando un archivo excel y escribiendo sobre el"
   ]
  },
  {
   "cell_type": "code",
   "execution_count": null,
   "metadata": {},
   "outputs": [],
   "source": [
    "workbook = Workbook()\n",
    "\n",
    "sheet = workbook.active\n",
    "sheet[\"A1\"] = \"hola\"\n",
    "sheet[\"B1\"] = \"mundo\"\n",
    "\n",
    "workbook.save(filename=\"archivo.xlsx\")\n",
    "workbook.close()"
   ]
  },
  {
   "attachments": {},
   "cell_type": "markdown",
   "metadata": {},
   "source": [
    "Leer un archivo excel en especifico"
   ]
  },
  {
   "cell_type": "code",
   "execution_count": null,
   "metadata": {},
   "outputs": [],
   "source": [
    "workbook = load_workbook(\"videogamesales.xlsx\")"
   ]
  },
  {
   "attachments": {},
   "cell_type": "markdown",
   "metadata": {},
   "source": [
    "Visualizar sus hojas y seleccionando una"
   ]
  },
  {
   "cell_type": "code",
   "execution_count": null,
   "metadata": {},
   "outputs": [],
   "source": [
    "print(workbook.sheetnames)\n",
    "\n",
    "sheet = workbook.active\n",
    "print(sheet.title)\n",
    "print(f\"Filas:    {sheet.max_row}\")\n",
    "print(f\"Columnas: {sheet.max_column}\")\n",
    "\n",
    "sheet_genre = workbook[\"Total Sales by Genre\"]\n",
    "print(f\"Filas:    {sheet_genre.max_row}\")\n",
    "print(f\"Columnas: {sheet_genre.max_column}\")\n"
   ]
  },
  {
   "attachments": {},
   "cell_type": "markdown",
   "metadata": {},
   "source": [
    "Formas de seleccionar celdas e iterar sobre ellas"
   ]
  },
  {
   "cell_type": "code",
   "execution_count": null,
   "metadata": {},
   "outputs": [],
   "source": [
    "# Tomando una celda\n",
    "cell_A1 = sheet['A1'].value\n",
    "print(f\"Celda A1: {cell_A1}\")\n",
    "\n",
    "cell_A1 = sheet.cell(row=1, column=1).value\n",
    "print(f\"Celda A1: {cell_A1}\")\n",
    "\n",
    "# Obtener un rango de celdas:\n",
    "data = sheet[\"A\"]      # Columna A\n",
    "data = sheet[\"A:B\"]     # Columna A -> B\n",
    "data = sheet[\"2\"]       # Fila 2\n",
    "data = sheet[\"2:3\"]     # Fila 2 -> 3\n",
    "data = sheet[\"A1:C2\"]   # Rango A1 -> C2\n",
    "data = sheet[\"A1\":\"C2\"]   # Rango A1 -> C2\n",
    "\n",
    "for row in data:\n",
    "    for cell in row:\n",
    "        print(cell.value)\n",
    "\n",
    "# # Iterar sobre toda la hoja:\n",
    "# for row in sheet.rows:\n",
    "#     print(row)\n",
    "\n",
    "# for column in sheet.colums:\n",
    "#     print(column)\n",
    "\n",
    "# Iterar sobre filas:\n",
    "for row in sheet.iter_rows(min_row=1, max_row=2, min_col=1, max_col=3):\n",
    "    print(row)\n",
    "\n",
    "# Iterar sobre columnas:\n",
    "for column in sheet.iter_rows(min_row=1, max_row=2, min_col=1, max_col=3):\n",
    "    print(column)\n",
    "\n",
    "for row in sheet.iter_rows(min_row=1, max_row=3, values_only=True):\n",
    "    print(row)"
   ]
  },
  {
   "cell_type": "code",
   "execution_count": null,
   "metadata": {},
   "outputs": [],
   "source": []
  },
  {
   "cell_type": "code",
   "execution_count": null,
   "metadata": {},
   "outputs": [],
   "source": [
    "workbook.close()"
   ]
  }
 ],
 "metadata": {
  "kernelspec": {
   "display_name": "Python 3",
   "language": "python",
   "name": "python3"
  },
  "language_info": {
   "codemirror_mode": {
    "name": "ipython",
    "version": 3
   },
   "file_extension": ".py",
   "mimetype": "text/x-python",
   "name": "python",
   "nbconvert_exporter": "python",
   "pygments_lexer": "ipython3",
   "version": "3.10.10"
  },
  "orig_nbformat": 4
 },
 "nbformat": 4,
 "nbformat_minor": 2
}
